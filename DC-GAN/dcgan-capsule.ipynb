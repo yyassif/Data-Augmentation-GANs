{
 "cells": [
  {
   "cell_type": "code",
   "execution_count": 12,
   "metadata": {
    "_cell_guid": "b1076dfc-b9ad-4769-8c92-a6c4dae69d19",
    "_uuid": "8f2839f25d086af736a60e9eeb907d3b93b6e0e5",
    "execution": {
     "iopub.execute_input": "2023-04-10T13:43:55.526532Z",
     "iopub.status.busy": "2023-04-10T13:43:55.525831Z",
     "iopub.status.idle": "2023-04-10T13:44:05.266528Z",
     "shell.execute_reply": "2023-04-10T13:44:05.265073Z",
     "shell.execute_reply.started": "2023-04-10T13:43:55.526492Z"
    }
   },
   "outputs": [
    {
     "name": "stdout",
     "output_type": "stream",
     "text": [
      "Requirement already satisfied: boto3 in /opt/conda/lib/python3.7/site-packages (1.26.100)\n",
      "Requirement already satisfied: botocore<1.30.0,>=1.29.100 in /opt/conda/lib/python3.7/site-packages (from boto3) (1.29.109)\n",
      "Requirement already satisfied: s3transfer<0.7.0,>=0.6.0 in /opt/conda/lib/python3.7/site-packages (from boto3) (0.6.0)\n",
      "Requirement already satisfied: jmespath<2.0.0,>=0.7.1 in /opt/conda/lib/python3.7/site-packages (from boto3) (1.0.1)\n",
      "Requirement already satisfied: urllib3<1.27,>=1.25.4 in /opt/conda/lib/python3.7/site-packages (from botocore<1.30.0,>=1.29.100->boto3) (1.26.14)\n",
      "Requirement already satisfied: python-dateutil<3.0.0,>=2.1 in /opt/conda/lib/python3.7/site-packages (from botocore<1.30.0,>=1.29.100->boto3) (2.8.2)\n",
      "Requirement already satisfied: six>=1.5 in /opt/conda/lib/python3.7/site-packages (from python-dateutil<3.0.0,>=2.1->botocore<1.30.0,>=1.29.100->boto3) (1.16.0)\n",
      "\u001b[33mWARNING: Running pip as the 'root' user can result in broken permissions and conflicting behaviour with the system package manager. It is recommended to use a virtual environment instead: https://pip.pypa.io/warnings/venv\u001b[0m\u001b[33m\n",
      "\u001b[0m"
     ]
    }
   ],
   "source": [
    "!pip install boto3"
   ]
  },
  {
   "cell_type": "code",
   "execution_count": 5,
   "metadata": {
    "execution": {
     "iopub.execute_input": "2023-04-10T09:16:53.248475Z",
     "iopub.status.busy": "2023-04-10T09:16:53.247201Z",
     "iopub.status.idle": "2023-04-10T09:16:54.454457Z",
     "shell.execute_reply": "2023-04-10T09:16:54.453081Z",
     "shell.execute_reply.started": "2023-04-10T09:16:53.248428Z"
    }
   },
   "outputs": [],
   "source": [
    "!cp -r /kaggle/input/datasetuno/capsule/* /kaggle/working"
   ]
  },
  {
   "cell_type": "code",
   "execution_count": 13,
   "metadata": {
    "execution": {
     "iopub.execute_input": "2023-04-10T13:44:05.273393Z",
     "iopub.status.busy": "2023-04-10T13:44:05.272957Z",
     "iopub.status.idle": "2023-04-10T13:44:05.428909Z",
     "shell.execute_reply": "2023-04-10T13:44:05.427895Z",
     "shell.execute_reply.started": "2023-04-10T13:44:05.273349Z"
    }
   },
   "outputs": [],
   "source": [
    "import boto3\n",
    "import uuid, os\n",
    "\n",
    "ACCESS_KEY = os.environ.get('AWS_ACCESS_KEY_ID')\n",
    "SECRET_KEY = os.environ.get('AWS_SECRET_ACCESS_KEY')\n",
    "BUCKET_NAME = os.environ.get('BUCKET_NAME')\n",
    "\n",
    "DATASET_NAME = \"capsule\"\n",
    "GENERATOR_NAME = \"generator_weights.pt\"\n",
    "GENERATOR_PATH = f\"{DATASET_NAME}/{GENERATOR_NAME}\"\n",
    "DESCRIMINATOR_NAME = \"descriminator_weights.pt\"\n",
    "DESCRIMINATOR_PATH = f\"{DATASET_NAME}/{DESCRIMINATOR_NAME}\"\n",
    "IMAGES_NAME = \"images.zip\"\n",
    "session = boto3.Session(\n",
    "    aws_access_key_id=ACCESS_KEY, \n",
    "    aws_secret_access_key=SECRET_KEY\n",
    ")\n",
    "\n",
    "s3 = session.resource('s3')\n",
    "bucket = s3.Bucket(BUCKET_NAME)"
   ]
  },
  {
   "cell_type": "markdown",
   "metadata": {},
   "source": [
    "## DOWNLOADING THE GENERATOR"
   ]
  },
  {
   "cell_type": "code",
   "execution_count": 7,
   "metadata": {
    "execution": {
     "iopub.execute_input": "2023-04-10T09:16:54.795163Z",
     "iopub.status.busy": "2023-04-10T09:16:54.794755Z",
     "iopub.status.idle": "2023-04-10T09:16:55.369480Z",
     "shell.execute_reply": "2023-04-10T09:16:55.368338Z",
     "shell.execute_reply.started": "2023-04-10T09:16:54.795123Z"
    }
   },
   "outputs": [
    {
     "name": "stdout",
     "output_type": "stream",
     "text": [
      "The generator weights don't exist.\n"
     ]
    }
   ],
   "source": [
    "try:\n",
    "    bucket.download_file(Key=GENERATOR_PATH, Filename=GENERATOR_NAME)\n",
    "except:\n",
    "    print(\"The generator weights don't exist.\")"
   ]
  },
  {
   "cell_type": "markdown",
   "metadata": {},
   "source": [
    "## DOWNLOADING THE DESCRIMINATOR"
   ]
  },
  {
   "cell_type": "code",
   "execution_count": 8,
   "metadata": {
    "execution": {
     "iopub.execute_input": "2023-04-10T09:16:55.371747Z",
     "iopub.status.busy": "2023-04-10T09:16:55.370992Z",
     "iopub.status.idle": "2023-04-10T09:16:55.378081Z",
     "shell.execute_reply": "2023-04-10T09:16:55.377027Z",
     "shell.execute_reply.started": "2023-04-10T09:16:55.371699Z"
    }
   },
   "outputs": [
    {
     "name": "stdout",
     "output_type": "stream",
     "text": [
      "The descriminator weights don't exist.\n"
     ]
    }
   ],
   "source": [
    "try:\n",
    "    bucket.download_file(Bucket=BUCKET_NAME, Key=DESCRIMINATOR_PATH, Filename=DESCRIMINATOR_NAME)\n",
    "except:\n",
    "    print(\"The descriminator weights don't exist.\")"
   ]
  },
  {
   "cell_type": "code",
   "execution_count": 9,
   "metadata": {
    "execution": {
     "iopub.execute_input": "2023-04-10T09:16:55.380308Z",
     "iopub.status.busy": "2023-04-10T09:16:55.379872Z",
     "iopub.status.idle": "2023-04-10T09:16:56.341105Z",
     "shell.execute_reply": "2023-04-10T09:16:56.339748Z",
     "shell.execute_reply.started": "2023-04-10T09:16:55.380271Z"
    }
   },
   "outputs": [],
   "source": [
    "!rm -rf images/*"
   ]
  },
  {
   "cell_type": "markdown",
   "metadata": {},
   "source": [
    "## DCGAN Architecture"
   ]
  },
  {
   "cell_type": "code",
   "execution_count": null,
   "metadata": {},
   "outputs": [],
   "source": [
    "!python dcgan.py --n_epochs 30000 --batch_size 64 --lr 0.0002 --b1 0.5 --b2 0.999 --n_cpu 8 --latent_dim 100 --img_size 256 --channels 3 --sample_interval 50 --save_weights True --augment_data True --load_weights True --save_path \"augment\" --count 100 --weights_filename \"weights.pt\""
   ]
  },
  {
   "cell_type": "markdown",
   "metadata": {},
   "source": [
    "## INFOGAN Architecture"
   ]
  },
  {
   "cell_type": "code",
   "execution_count": null,
   "metadata": {},
   "outputs": [],
   "source": [
    "#!python infogan.py --n_epochs 5000 --batch_size 64 --lr 0.0002 --b1 0.5 --b2 0.999 --n_cpu 8 --latent_dim 100 --n_classes 1 --img_size 256 --channels 3 --sample_interval 50 --save_weights True --augment_data True --load_weights True --save_path \"augment\" --count 100 --weights_filename \"weights.pt\""
   ]
  },
  {
   "cell_type": "markdown",
   "metadata": {},
   "source": [
    "## Upload or Overwrite the Generator weights"
   ]
  },
  {
   "cell_type": "code",
   "execution_count": 14,
   "metadata": {
    "execution": {
     "iopub.execute_input": "2023-04-10T13:44:15.715828Z",
     "iopub.status.busy": "2023-04-10T13:44:15.715452Z",
     "iopub.status.idle": "2023-04-10T13:44:20.764705Z",
     "shell.execute_reply": "2023-04-10T13:44:20.763658Z",
     "shell.execute_reply.started": "2023-04-10T13:44:15.715794Z"
    }
   },
   "outputs": [
    {
     "name": "stdout",
     "output_type": "stream",
     "text": [
      "File generator_weights.pt uploaded to S3 bucket lmpthree\n"
     ]
    }
   ],
   "source": [
    "try:\n",
    "    bucket.upload_file(Key=GENERATOR_PATH, Filename=GENERATOR_NAME)\n",
    "    print(f'File {GENERATOR_NAME} uploaded to S3 bucket {BUCKET_NAME}')\n",
    "except Exception as e:\n",
    "    print(f\"Something went wrong: {e}\")"
   ]
  },
  {
   "cell_type": "markdown",
   "metadata": {},
   "source": [
    "## Upload or Overwrite the Descriminator weights"
   ]
  },
  {
   "cell_type": "code",
   "execution_count": 15,
   "metadata": {
    "execution": {
     "iopub.execute_input": "2023-04-10T13:44:20.767324Z",
     "iopub.status.busy": "2023-04-10T13:44:20.766916Z",
     "iopub.status.idle": "2023-04-10T13:44:20.961550Z",
     "shell.execute_reply": "2023-04-10T13:44:20.960233Z",
     "shell.execute_reply.started": "2023-04-10T13:44:20.767282Z"
    }
   },
   "outputs": [
    {
     "name": "stdout",
     "output_type": "stream",
     "text": [
      "File descriminator_weights.pt uploaded to S3 bucket lmpthree\n"
     ]
    }
   ],
   "source": [
    "try:\n",
    "    bucket.upload_file(Key=DESCRIMINATOR_PATH, Filename=DESCRIMINATOR_NAME)\n",
    "    print(f'File {DESCRIMINATOR_NAME} uploaded to S3 bucket {BUCKET_NAME}')\n",
    "except:\n",
    "    print(\"Something went wrong\")"
   ]
  },
  {
   "cell_type": "code",
   "execution_count": null,
   "metadata": {},
   "outputs": [],
   "source": [
    "!zip images.zip images/*"
   ]
  },
  {
   "cell_type": "markdown",
   "metadata": {},
   "source": [
    "## Upload or Overwrite the Training Images"
   ]
  },
  {
   "cell_type": "code",
   "execution_count": 19,
   "metadata": {
    "execution": {
     "iopub.execute_input": "2023-04-10T13:47:27.957479Z",
     "iopub.status.busy": "2023-04-10T13:47:27.956784Z",
     "iopub.status.idle": "2023-04-10T13:47:37.719934Z",
     "shell.execute_reply": "2023-04-10T13:47:37.718661Z",
     "shell.execute_reply.started": "2023-04-10T13:47:27.957438Z"
    }
   },
   "outputs": [
    {
     "name": "stdout",
     "output_type": "stream",
     "text": [
      "File images.zip uploaded to S3 bucket lmpthree\n"
     ]
    }
   ],
   "source": [
    "IMAGES_PATH = f\"{DATASET_NAME}/images-{uuid.uuid4()}.zip\"\n",
    "try:\n",
    "    bucket.upload_file(Key=IMAGES_PATH, Filename=IMAGES_NAME)\n",
    "    print(f'File {IMAGES_NAME} uploaded to S3 bucket {BUCKET_NAME}')\n",
    "except:\n",
    "    print(\"Something went wrong\")"
   ]
  },
  {
   "cell_type": "markdown",
   "metadata": {},
   "source": [
    "## CREATE GIF"
   ]
  },
  {
   "cell_type": "code",
   "execution_count": 20,
   "metadata": {
    "execution": {
     "iopub.execute_input": "2023-04-10T13:50:45.673676Z",
     "iopub.status.busy": "2023-04-10T13:50:45.673288Z",
     "iopub.status.idle": "2023-04-10T13:50:45.683932Z",
     "shell.execute_reply": "2023-04-10T13:50:45.682762Z",
     "shell.execute_reply.started": "2023-04-10T13:50:45.673640Z"
    }
   },
   "outputs": [],
   "source": [
    "import os\n",
    "import imageio\n",
    "import numpy as np\n",
    "from PIL import Image, ImageDraw\n",
    "\n",
    "def create_gif(input_dir, output_file, fps=2):\n",
    "    # Collect image files from the input directory\n",
    "    image_files = [os.path.join(input_dir, f) for f in os.listdir(input_dir) \n",
    "                   if os.path.isfile(os.path.join(input_dir, f)) and f.endswith('.png')]\n",
    "    # Sort the files based on their name\n",
    "    image_files.sort(key=lambda f: int(''.join(filter(str.isdigit, f))))\n",
    "\n",
    "    # Create a list of NumPy arrays from the image files\n",
    "    images = []\n",
    "    for file in image_files:\n",
    "        with Image.open(file) as img:\n",
    "            # Add a text caption to the image indicating its file name\n",
    "            draw = ImageDraw.Draw(img)\n",
    "            draw.text((0, 0), os.path.basename(file))\n",
    "            images.append(np.array(img))\n",
    "\n",
    "    # Save the list of NumPy arrays as an animated GIF\n",
    "    with imageio.get_writer(output_file, mode='I', fps=fps) as writer:\n",
    "        for img in images:\n",
    "            writer.append_data(img)\n",
    "\n",
    "    print(f'Animated GIF created successfully: {output_file}')\n"
   ]
  },
  {
   "cell_type": "code",
   "execution_count": 21,
   "metadata": {
    "execution": {
     "iopub.execute_input": "2023-04-10T13:50:46.279700Z",
     "iopub.status.busy": "2023-04-10T13:50:46.278896Z",
     "iopub.status.idle": "2023-04-10T13:56:23.140599Z",
     "shell.execute_reply": "2023-04-10T13:56:23.138488Z",
     "shell.execute_reply.started": "2023-04-10T13:50:46.279661Z"
    }
   },
   "outputs": [
    {
     "name": "stdout",
     "output_type": "stream",
     "text": [
      "Animated GIF created successfully: images.gif\n"
     ]
    }
   ],
   "source": [
    "create_gif('images', 'images.gif')"
   ]
  },
  {
   "cell_type": "code",
   "execution_count": 22,
   "metadata": {
    "execution": {
     "iopub.execute_input": "2023-04-10T13:56:23.143515Z",
     "iopub.status.busy": "2023-04-10T13:56:23.142840Z",
     "iopub.status.idle": "2023-04-10T13:56:29.127038Z",
     "shell.execute_reply": "2023-04-10T13:56:29.126005Z",
     "shell.execute_reply.started": "2023-04-10T13:56:23.143472Z"
    }
   },
   "outputs": [],
   "source": [
    "try:\n",
    "    bucket.upload_file(Key=f\"{DATASET_NAME}/images.gif\", Filename='images.gif')\n",
    "except:\n",
    "    print(\"GIF don't exist.\")"
   ]
  },
  {
   "cell_type": "code",
   "execution_count": null,
   "metadata": {},
   "outputs": [],
   "source": []
  }
 ],
 "metadata": {
  "kernelspec": {
   "display_name": "Python 3 (ipykernel)",
   "language": "python",
   "name": "python3"
  },
  "language_info": {
   "codemirror_mode": {
    "name": "ipython",
    "version": 3
   },
   "file_extension": ".py",
   "mimetype": "text/x-python",
   "name": "python",
   "nbconvert_exporter": "python",
   "pygments_lexer": "ipython3",
   "version": "3.10.9"
  }
 },
 "nbformat": 4,
 "nbformat_minor": 4
}
